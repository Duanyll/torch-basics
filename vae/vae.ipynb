{
 "cells": [
  {
   "cell_type": "code",
   "execution_count": null,
   "metadata": {},
   "outputs": [],
   "source": [
    "import torch\n",
    "import torch.nn as nn\n",
    "import torch.nn.functional as F\n",
    "import torch.optim as optim\n",
    "from torchvision import datasets, transforms\n",
    "import numpy as np\n",
    "from einops import rearrange, repeat, reduce\n",
    "from tqdm.notebook import tqdm\n",
    "import matplotlib.pyplot as plt\n",
    "%matplotlib inline"
   ]
  },
  {
   "cell_type": "code",
   "execution_count": null,
   "metadata": {},
   "outputs": [],
   "source": [
    "# Mnist dataset\n",
    "train_dataset = datasets.MNIST(root=\"../data\", train=True, download=True, transform=transforms.ToTensor())\n",
    "test_dataset = datasets.MNIST(root=\"../data\", train=False, download=True, transform=transforms.ToTensor())\n",
    "\n",
    "# Print the shape of the dataset\n",
    "print(train_dataset.data.shape)"
   ]
  },
  {
   "cell_type": "code",
   "execution_count": null,
   "metadata": {},
   "outputs": [],
   "source": [
    "class CNNEncoder(nn.Module):\n",
    "    def __init__(self, in_channels, latent_dim):\n",
    "        super(CNNEncoder, self).__init__()\n",
    "        self.layers = nn.Sequential(\n",
    "            # 1x28x28 -> 32x14x14\n",
    "            nn.Conv2d(in_channels, 32, kernel_size=3, stride=2, padding=1),\n",
    "            nn.ReLU(),\n",
    "            # 32x14x14 -> 64x7x7\n",
    "            nn.Conv2d(32, 64, kernel_size=3, stride=2, padding=1),\n",
    "            nn.ReLU(),\n",
    "            # 64x7x7 -> 16\n",
    "            nn.Flatten(),\n",
    "            nn.Linear(64*7*7, 16),\n",
    "            nn.ReLU()\n",
    "        )\n",
    "        self.mean_head = nn.Linear(16, latent_dim)\n",
    "        self.logvar_head = nn.Linear(16, latent_dim)\n",
    "        \n",
    "    def forward(self, x):\n",
    "        x = self.layers(x)\n",
    "        mean = self.mean_head(x)\n",
    "        logvar = self.logvar_head(x)\n",
    "        return mean, logvar\n",
    "        \n",
    "\n",
    "def sample(mean, logvar):\n",
    "    std = torch.exp(0.5*logvar)\n",
    "    eps = torch.randn_like(std)\n",
    "    return mean + eps*std\n",
    "\n",
    "\n",
    "class CNNDecoder(nn.Module):\n",
    "    def __init__(self, latent_dim, out_channels):\n",
    "        super(CNNDecoder, self).__init__()\n",
    "        self.in_layer = nn.Linear(latent_dim, 64*7*7)\n",
    "        self.conv_layers = nn.Sequential(\n",
    "            # 64x7x7 -> 32x14x14\n",
    "            nn.ConvTranspose2d(64, 32, kernel_size=3, stride=2, padding=1, output_padding=1),\n",
    "            nn.ReLU(),\n",
    "            # 32x14x14 -> 16x28x28\n",
    "            nn.ConvTranspose2d(32, 16, kernel_size=3, stride=2, padding=1, output_padding=1),\n",
    "            nn.ReLU(),\n",
    "            # 16x28x28 -> 1x28x28\n",
    "            nn.Conv2d(16, out_channels, kernel_size=3, padding=1),\n",
    "            nn.Sigmoid()\n",
    "        )\n",
    "        \n",
    "    def forward(self, x):\n",
    "        x = self.in_layer(x)\n",
    "        x = x.view(-1, 64, 7, 7)\n",
    "        x = self.conv_layers(x)\n",
    "        return x"
   ]
  },
  {
   "cell_type": "code",
   "execution_count": null,
   "metadata": {},
   "outputs": [],
   "source": [
    "def loss_fn(recon_x, x, mean, logvar):\n",
    "    bce = F.binary_cross_entropy(recon_x, x, reduction='sum')\n",
    "    kld = -0.5 * torch.sum(1 + logvar - mean.pow(2) - logvar.exp())\n",
    "    return torch.mean(bce + kld)"
   ]
  },
  {
   "cell_type": "code",
   "execution_count": null,
   "metadata": {},
   "outputs": [],
   "source": [
    "train_loader = torch.utils.data.DataLoader(train_dataset, batch_size=128, shuffle=True)\n",
    "encoder = CNNEncoder(in_channels=1, latent_dim=2).cuda()\n",
    "decoder = CNNDecoder(latent_dim=2, out_channels=1).cuda()\n",
    "optimizer = optim.Adam(list(encoder.parameters()) + list(decoder.parameters()), lr=1e-3)"
   ]
  },
  {
   "cell_type": "code",
   "execution_count": null,
   "metadata": {},
   "outputs": [],
   "source": [
    "for epoch in tqdm(range(30)):\n",
    "    epoch_loss = 0\n",
    "    batch_count = 0\n",
    "    for x, _ in train_loader:\n",
    "        optimizer.zero_grad()\n",
    "        x = x.cuda()\n",
    "        mean, logvar = encoder(x)\n",
    "        z = sample(mean, logvar)\n",
    "        recon_x = decoder(z)\n",
    "        loss = loss_fn(recon_x, x, mean, logvar)\n",
    "        loss.backward()\n",
    "        optimizer.step()\n",
    "        \n",
    "        epoch_loss += loss.item()\n",
    "        batch_count += train_loader.batch_size\n",
    "    print(f\"Epoch {epoch}, loss: {epoch_loss/batch_count}\")"
   ]
  },
  {
   "cell_type": "code",
   "execution_count": null,
   "metadata": {},
   "outputs": [],
   "source": [
    "x_test = test_dataset.data.float().view(-1, 1, 28, 28).cuda()\n",
    "mean, logvar = encoder(x_test)\n",
    "\n",
    "# Show the latent space with scatter plot\n",
    "plt.figure(figsize=(10, 10))\n",
    "mean_np = mean.cpu().detach().numpy()\n",
    "c_np = test_dataset.targets.numpy()\n",
    "plt.scatter(mean_np[:, 0], mean_np[:, 1], c=c_np, cmap='tab10')\n",
    "plt.colorbar()\n",
    "plt.show()"
   ]
  }
 ],
 "metadata": {
  "kernelspec": {
   "display_name": "base",
   "language": "python",
   "name": "python3"
  },
  "language_info": {
   "codemirror_mode": {
    "name": "ipython",
    "version": 3
   },
   "file_extension": ".py",
   "mimetype": "text/x-python",
   "name": "python",
   "nbconvert_exporter": "python",
   "pygments_lexer": "ipython3",
   "version": "3.11.10"
  }
 },
 "nbformat": 4,
 "nbformat_minor": 2
}
