{
 "cells": [
  {
   "cell_type": "code",
   "execution_count": null,
   "metadata": {},
   "outputs": [],
   "source": [
    "from transformers import LlavaNextProcessor, LlavaNextForConditionalGeneration\n",
    "import torch\n",
    "from PIL import Image\n",
    "import requests\n",
    "processor = LlavaNextProcessor.from_pretrained(\"llava-hf/llava-v1.6-mistral-7b-hf\")"
   ]
  },
  {
   "cell_type": "code",
   "execution_count": null,
   "metadata": {},
   "outputs": [],
   "source": [
    "model = LlavaNextForConditionalGeneration.from_pretrained(\"llava-hf/llava-v1.6-mistral-7b-hf\", torch_dtype=torch.float16, low_cpu_mem_usage=True)\n",
    "model.to(\"cuda:0\")"
   ]
  },
  {
   "cell_type": "code",
   "execution_count": null,
   "metadata": {},
   "outputs": [],
   "source": [
    "# url = \"https://github.com/haotian-liu/LLaVA/blob/1a91fc274d7c35a9b50b3cb29c4247ae5837ce39/images/llava_v1_5_radar.jpg?raw=true\"\n",
    "image = Image.open(\"./assets/palm_tree_og.png\")\n",
    "display(image)"
   ]
  },
  {
   "cell_type": "code",
   "execution_count": null,
   "metadata": {},
   "outputs": [],
   "source": [
    "conversation = [\n",
    "    {\n",
    "        \"role\": \"user\",\n",
    "        \"content\": [\n",
    "            {\"type\": \"image\"},\n",
    "            {\"type\": \"text\", \"text\": \"Describe the content, composition and style of this image with one short sentence for each. Use about 40 words.\"},\n",
    "        ],\n",
    "    }\n",
    "]\n",
    "prompt = processor.apply_chat_template(conversation, add_generation_prompt=False) + \" The image is\"\n",
    "inputs = processor(image, prompt, return_tensors=\"pt\").to(\"cuda:0\")\n",
    "print(prompt)"
   ]
  },
  {
   "cell_type": "code",
   "execution_count": null,
   "metadata": {},
   "outputs": [],
   "source": [
    "output = model.generate(**inputs, max_new_tokens=300)\n",
    "decoded = processor.decode(output[0], skip_special_tokens=True)\n",
    "decoded = decoded.split(\"The image is \")[1]\n",
    "wordcount = len(decoded.split())\n",
    "print(f\"Wordcount: {wordcount}\")\n",
    "print(decoded)"
   ]
  },
  {
   "cell_type": "code",
   "execution_count": null,
   "metadata": {},
   "outputs": [],
   "source": [
    "conversation = [\n",
    "    {\n",
    "        \"role\": \"user\",\n",
    "        \"content\": [\n",
    "            {\"type\": \"image\"},\n",
    "            {\"type\": \"text\", \"text\": \"Please identify objects with significant shadow in the image. Format your response as a JSON list of nouns.\"},\n",
    "        ],\n",
    "    }\n",
    "]\n",
    "prompt = processor.apply_chat_template(conversation, add_generation_prompt=False) + \" [\"\n",
    "inputs = processor(image, prompt, return_tensors=\"pt\").to(\"cuda:0\")\n",
    "print(prompt)"
   ]
  },
  {
   "cell_type": "code",
   "execution_count": null,
   "metadata": {},
   "outputs": [],
   "source": [
    "output = model.generate(**inputs, max_new_tokens=300)\n",
    "decoded = processor.decode(output[0], skip_special_tokens=True)\n",
    "decoded = decoded.split(\"[/INST] \")[1]\n",
    "wordcount = len(decoded.split())\n",
    "print(f\"Wordcount: {wordcount}\")\n",
    "print(decoded)"
   ]
  },
  {
   "cell_type": "code",
   "execution_count": null,
   "metadata": {},
   "outputs": [],
   "source": [
    "conversation = [\n",
    "    {\n",
    "        \"role\": \"user\",\n",
    "        \"content\": [\n",
    "            {\"type\": \"image\"},\n",
    "            {\"type\": \"text\", \"text\": \"Describe the background of the image. Use about 40 words.\"},\n",
    "        ],\n",
    "    }\n",
    "]\n",
    "prompt = processor.apply_chat_template(conversation, add_generation_prompt=False) + \" The background \"\n",
    "inputs = processor(image, prompt, return_tensors=\"pt\").to(\"cuda:0\")\n",
    "output = model.generate(**inputs, max_new_tokens=300)\n",
    "decoded = processor.decode(output[0], skip_special_tokens=True)\n",
    "decoded = decoded.split(\"[/INST] \")[1]\n",
    "wordcount = len(decoded.split())\n",
    "print(f\"Wordcount: {wordcount}\")\n",
    "print(decoded)"
   ]
  }
 ],
 "metadata": {
  "kernelspec": {
   "display_name": "base",
   "language": "python",
   "name": "python3"
  },
  "language_info": {
   "codemirror_mode": {
    "name": "ipython",
    "version": 3
   },
   "file_extension": ".py",
   "mimetype": "text/x-python",
   "name": "python",
   "nbconvert_exporter": "python",
   "pygments_lexer": "ipython3",
   "version": "3.11.11"
  }
 },
 "nbformat": 4,
 "nbformat_minor": 2
}
