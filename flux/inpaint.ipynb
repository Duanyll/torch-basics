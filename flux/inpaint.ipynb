{
 "cells": [
  {
   "cell_type": "code",
   "execution_count": null,
   "metadata": {},
   "outputs": [],
   "source": [
    "%load_ext autoreload\n",
    "%autoreload 2"
   ]
  },
  {
   "cell_type": "code",
   "execution_count": null,
   "metadata": {},
   "outputs": [],
   "source": [
    "import torch\n",
    "from diffusers import FluxInpaintPipeline\n",
    "from diffusers.utils import load_image\n",
    "from pipeline import create_low_vram_flux_pipeline"
   ]
  },
  {
   "cell_type": "code",
   "execution_count": null,
   "metadata": {},
   "outputs": [],
   "source": [
    "device = \"cuda:0\"\n",
    "pipeline = create_low_vram_flux_pipeline(device, factory=FluxInpaintPipeline)"
   ]
  },
  {
   "cell_type": "code",
   "execution_count": null,
   "metadata": {},
   "outputs": [],
   "source": [
    "prompt = \"a vibrant and colorful scene. There is a yellow wall that has a rustic charm, with visible signs of age and weathering. The wall is adorned with a wooden door that has a rich, dark brown color, adding a touch of rustic elegance to the scene. The door is closed, and there is a small window located above it, which is also made of wood and has a similar dark brown color. The wall and door are set against a clear blue sky, which is dotted with a few clouds, suggesting a bright and sunny day. The overall composition of the background creates a warm and inviting atmosphere. \"\n",
    "# prompt = \"Yellow wall with a wooden door and a wooden window\"\n",
    "img_url = \"./assets/car.png\"\n",
    "mask_url = \"./assets/car_mask.png\"\n",
    "source = load_image(img_url)\n",
    "mask = load_image(mask_url)\n",
    "width = source.size[0]\n",
    "height = source.size[1]\n",
    "display(source)\n",
    "display(mask)"
   ]
  },
  {
   "cell_type": "code",
   "execution_count": null,
   "metadata": {},
   "outputs": [],
   "source": [
    "import cv2\n",
    "import numpy as np\n",
    "from PIL import Image\n",
    "# Dilate the mask to make the inpainting more robust\n",
    "mask = cv2.dilate(np.array(mask), np.ones((7, 7), np.uint8), iterations=5)\n",
    "mask = Image.fromarray(mask)\n",
    "display(mask)"
   ]
  },
  {
   "cell_type": "code",
   "execution_count": null,
   "metadata": {},
   "outputs": [],
   "source": [
    "# Show masked image\n",
    "masked = np.array(source.copy())\n",
    "mask_cv2 = np.array(mask)\n",
    "masked = masked * (mask_cv2 == 0)\n",
    "masked = Image.fromarray(masked)\n",
    "display(masked)"
   ]
  },
  {
   "cell_type": "code",
   "execution_count": null,
   "metadata": {},
   "outputs": [],
   "source": [
    "res = pipeline(prompt=prompt, image=source, mask_image=mask, width=width, height=height, strength=1.0)"
   ]
  },
  {
   "cell_type": "code",
   "execution_count": null,
   "metadata": {},
   "outputs": [],
   "source": [
    "res.images[0]"
   ]
  },
  {
   "cell_type": "code",
   "execution_count": null,
   "metadata": {},
   "outputs": [],
   "source": [
    "def show_latent(self, latents):\n",
    "    latents = self._unpack_latents(latents, height, width, self.vae_scale_factor)\n",
    "    latents = (latents / self.vae.config.scaling_factor) + self.vae.config.shift_factor\n",
    "    image = self.vae.decode(latents, return_dict=False)[0]\n",
    "    image = self.image_processor.postprocess(image, output_type=\"pil\")[0]\n",
    "    image.save(\"latent.png\")\n",
    "    display(image)\n",
    "    \n",
    "pipeline.show_latent = show_latent.__get__(pipeline)"
   ]
  }
 ],
 "metadata": {
  "kernelspec": {
   "display_name": "base",
   "language": "python",
   "name": "python3"
  },
  "language_info": {
   "codemirror_mode": {
    "name": "ipython",
    "version": 3
   },
   "file_extension": ".py",
   "mimetype": "text/x-python",
   "name": "python",
   "nbconvert_exporter": "python",
   "pygments_lexer": "ipython3",
   "version": "3.11.11"
  }
 },
 "nbformat": 4,
 "nbformat_minor": 2
}
