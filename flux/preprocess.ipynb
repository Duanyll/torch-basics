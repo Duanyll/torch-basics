{
 "cells": [
  {
   "cell_type": "code",
   "execution_count": null,
   "id": "0",
   "metadata": {},
   "outputs": [],
   "source": [
    "%load_ext autoreload\n",
    "%autoreload 2"
   ]
  },
  {
   "cell_type": "code",
   "execution_count": null,
   "id": "1",
   "metadata": {},
   "outputs": [],
   "source": [
    "from diffusers import FluxPipeline\n",
    "import torch"
   ]
  },
  {
   "cell_type": "code",
   "execution_count": null,
   "id": "2",
   "metadata": {},
   "outputs": [],
   "source": [
    "DEVICE = torch.device(\"cuda:0\")\n",
    "DTYPE = torch.bfloat16\n",
    "\n",
    "pipe: FluxPipeline = FluxPipeline.from_pretrained(\n",
    "    \"black-forest-labs/FLUX.1-dev\", torch_dtype=DTYPE, transformer=None\n",
    ").to(DEVICE)"
   ]
  },
  {
   "cell_type": "code",
   "execution_count": null,
   "id": "3",
   "metadata": {},
   "outputs": [],
   "source": [
    "from torchvision import transforms\n",
    "from PIL import Image\n",
    "\n",
    "def process_sample(image_path, prompt_path):\n",
    "    img = Image.open(image_path)\n",
    "    img = pipe.image_processor.preprocess(img).to(device=DEVICE, dtype=DTYPE)\n",
    "    latent = pipe.vae.encode(img).latent_dist.sample()\n",
    "    latent = (latent - pipe.vae.config.shift_factor) * pipe.vae.config.scaling_factor\n",
    "    with open(prompt_path, \"r\") as f:\n",
    "        prompt = f.read().strip()\n",
    "    prompt_embeds, pooled_prompt_embeds, _ = pipe.encode_prompt(\n",
    "        prompt=prompt,\n",
    "        prompt_2=prompt,\n",
    "        device=DEVICE,\n",
    "    )\n",
    "    latent = latent.cpu().squeeze(0)\n",
    "    prompt_embeds = prompt_embeds.cpu().squeeze(0)\n",
    "    pooled_prompt_embeds = pooled_prompt_embeds.cpu().squeeze(0)\n",
    "    return {\n",
    "        \"clean_latents\": latent,\n",
    "        \"prompt_embeds\": prompt_embeds,\n",
    "        \"pooled_prompt_embeds\": pooled_prompt_embeds,\n",
    "    }"
   ]
  },
  {
   "cell_type": "code",
   "execution_count": null,
   "id": "4",
   "metadata": {},
   "outputs": [],
   "source": [
    "image_path = \"/workspaces/torch-basics/data/285058/000.jpeg\"\n",
    "prompt_path = \"/workspaces/torch-basics/data/285058/000.txt\"\n",
    "sample = process_sample(image_path, prompt_path)\n",
    "sample"
   ]
  },
  {
   "cell_type": "code",
   "execution_count": null,
   "id": "5",
   "metadata": {},
   "outputs": [],
   "source": [
    "import os\n",
    "import lmdb\n",
    "import pickle\n",
    "\n",
    "def process_directory(directory):\n",
    "    for root, _, files in os.walk(directory):\n",
    "        for file in files:\n",
    "            if file.endswith(\".jpeg\") or file.endswith(\".jpg\"):\n",
    "                image_path = os.path.join(root, file)\n",
    "                prompt_path = os.path.join(root, file.replace(\".jpeg\", \".txt\").replace(\".jpg\", \".txt\"))\n",
    "                if os.path.exists(prompt_path):\n",
    "                    yield process_sample(image_path, prompt_path)\n",
    "\n",
    "def save_lmdb(samples, lmdb_path):\n",
    "    env = lmdb.open(lmdb_path, map_size=int(1e12))\n",
    "    with env.begin(write=True) as txn:\n",
    "        for i, sample in enumerate(samples):\n",
    "            pickle_data = pickle.dumps(sample)\n",
    "            txn.put(f\"{i:08}\".encode(), pickle_data)\n",
    "    env.close()"
   ]
  },
  {
   "cell_type": "code",
   "execution_count": null,
   "id": "6",
   "metadata": {},
   "outputs": [],
   "source": [
    "directory = \"/workspaces/torch-basics/data/285058\"\n",
    "lmdb_path = \"/workspaces/torch-basics/data/285058.lmdb\"\n",
    "samples = process_directory(directory)\n",
    "save_lmdb(samples, lmdb_path)"
   ]
  }
 ],
 "metadata": {
  "kernelspec": {
   "display_name": "base",
   "language": "python",
   "name": "python3"
  },
  "language_info": {
   "codemirror_mode": {
    "name": "ipython",
    "version": 3
   },
   "file_extension": ".py",
   "mimetype": "text/x-python",
   "name": "python",
   "nbconvert_exporter": "python",
   "pygments_lexer": "ipython3",
   "version": "3.11.11"
  }
 },
 "nbformat": 4,
 "nbformat_minor": 5
}
