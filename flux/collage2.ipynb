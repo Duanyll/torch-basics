{
 "cells": [
  {
   "cell_type": "code",
   "execution_count": null,
   "id": "0",
   "metadata": {},
   "outputs": [],
   "source": [
    "%cd /workspaces/torch-basics/\n",
    "%load_ext autoreload\n",
    "%autoreload 2"
   ]
  },
  {
   "cell_type": "code",
   "execution_count": null,
   "id": "1",
   "metadata": {},
   "outputs": [],
   "source": [
    "import torch\n",
    "import torchvision\n",
    "import numpy as np\n",
    "import cv2\n",
    "import kornia\n",
    "\n",
    "from flux_control.utils.describe import describe\n",
    "from data.visualize import (\n",
    "    visualize_flow,\n",
    "    visualize_image,\n",
    "    visualize_grayscale,\n",
    "    visualize_grid,\n",
    "    show_grayscale_colorbar,\n",
    "    show_image_histogram\n",
    ")\n",
    "\n",
    "device = \"cuda\" if torch.cuda.is_available() else \"cpu\""
   ]
  },
  {
   "cell_type": "code",
   "execution_count": null,
   "id": "2",
   "metadata": {},
   "outputs": [],
   "source": [
    "from flux_control.datasets.collage.config import CollageConfig\n",
    "\n",
    "cfg = CollageConfig(\n",
    "    chance_keep_leaf=1.,\n",
    "    chance_keep_stem=0.3,\n",
    "    chance_split_stem=0.7,\n",
    "    transform_erode_size=0,\n",
    "    transform_dilate_size=0\n",
    ")"
   ]
  },
  {
   "cell_type": "code",
   "execution_count": null,
   "id": "3",
   "metadata": {},
   "outputs": [],
   "source": [
    "from flux_control.datasets.collage.video import load_video\n",
    "\n",
    "video_path = \"data/panda-ours/5pk7860iymE_5_0to124.mp4\"\n",
    "video = load_video(video_path)\n",
    "describe(video)"
   ]
  },
  {
   "cell_type": "code",
   "execution_count": null,
   "id": "4",
   "metadata": {},
   "outputs": [],
   "source": [
    "from flux_control.datasets.collage.flow import load_raft_model, unload_raft_model\n",
    "from flux_control.datasets.collage.video import try_extract_frame\n",
    "\n",
    "load_raft_model(device)\n",
    "result = try_extract_frame(video, device=device, cfg=cfg)\n",
    "assert result is not None, \"Failed to extract frame\"\n",
    "flow, src, tgt = result\n",
    "unload_raft_model()"
   ]
  },
  {
   "cell_type": "code",
   "execution_count": null,
   "id": "5",
   "metadata": {},
   "outputs": [],
   "source": [
    "describe(result)\n",
    "display(visualize_image(src))\n",
    "display(visualize_image(tgt))\n",
    "display(visualize_flow(flow))"
   ]
  },
  {
   "cell_type": "code",
   "execution_count": null,
   "id": "6",
   "metadata": {},
   "outputs": [],
   "source": [
    "from flux_control.datasets.collage.rmbg import load_rmbg_model, unload_rmbg_model, estimate_foreground\n",
    "\n",
    "load_rmbg_model(device)\n",
    "foreground = estimate_foreground(tgt)\n",
    "unload_rmbg_model()\n",
    "\n",
    "describe(foreground)\n",
    "display(visualize_grayscale(foreground))"
   ]
  },
  {
   "cell_type": "code",
   "execution_count": null,
   "id": "7",
   "metadata": {},
   "outputs": [],
   "source": [
    "from flux_control.datasets.collage.warp import forward_warp\n",
    "\n",
    "splat, grid_splat, mask_splat = forward_warp(src, tgt, flow)\n",
    "\n",
    "display(visualize_image(splat))\n",
    "display(visualize_grid(grid_splat, mask_splat))\n",
    "display(visualize_grayscale(mask_splat))"
   ]
  },
  {
   "cell_type": "code",
   "execution_count": null,
   "id": "8",
   "metadata": {},
   "outputs": [],
   "source": [
    "from flux_control.datasets.collage.segmentation import load_segmentation_model, unload_segmentation_model, generate_masks\n",
    "\n",
    "load_segmentation_model(device)\n",
    "masks = generate_masks(src, pack_result=True)\n",
    "unload_segmentation_model()\n",
    "\n",
    "describe(masks)"
   ]
  },
  {
   "cell_type": "code",
   "execution_count": null,
   "id": "9",
   "metadata": {},
   "outputs": [],
   "source": [
    "from flux_control.datasets.collage.depth import load_depth_model, unload_depth_model, estimate_depth\n",
    "\n",
    "load_depth_model(device)\n",
    "depth = estimate_depth(src)\n",
    "unload_depth_model()\n",
    "\n",
    "show_grayscale_colorbar(depth)"
   ]
  },
  {
   "cell_type": "code",
   "execution_count": null,
   "id": "10",
   "metadata": {},
   "outputs": [],
   "source": [
    "from flux_control.datasets.collage.affine import compute_transform_data_structured\n",
    "\n",
    "selected_masks, dropped_masks = compute_transform_data_structured(flow, depth, masks, cfg=cfg)\n",
    "\n",
    "describe(selected_masks, max_items=5)\n",
    "describe(dropped_masks, max_items=5)"
   ]
  },
  {
   "cell_type": "code",
   "execution_count": null,
   "id": "11",
   "metadata": {},
   "outputs": [],
   "source": [
    "from flux_control.datasets.collage.affine import apply_transforms\n",
    "\n",
    "affine, grid_affine, mask_affine_src, mask_affine_tgt = apply_transforms(\n",
    "    src, depth, selected_masks, cfg=cfg\n",
    ")\n",
    "\n",
    "display(visualize_image(affine))\n",
    "display(visualize_grid(grid_affine, mask_affine_tgt))\n",
    "display(visualize_grayscale(mask_affine_src))\n",
    "display(visualize_grayscale(mask_affine_tgt))"
   ]
  },
  {
   "cell_type": "code",
   "execution_count": null,
   "id": "12",
   "metadata": {},
   "outputs": [],
   "source": [
    "from einops import rearrange\n",
    "import torch.nn.functional as F\n",
    "grid_diff = grid_affine - grid_splat\n",
    "grid_diff = torch.norm(grid_diff, dim=0, p=2)\n",
    "grid_diff = torch.tanh(grid_diff * 10)\n",
    "# grid_diff = 1 - torch.exp(-grid_diff * 5)\n",
    "mask_bool = (mask_splat > 0.5) & (mask_affine_tgt > 0.5)\n",
    "grid_diff = grid_diff * mask_bool + ~mask_bool * 1.0\n",
    "confidence = F.avg_pool2d(rearrange(grid_diff, \"h w -> 1 1 h w\"), kernel_size=16, stride=16)\n",
    "show_grayscale_colorbar(confidence, interpolation=\"nearest\")\n",
    "show_image_histogram(confidence, show_cdf=True)"
   ]
  },
  {
   "cell_type": "code",
   "execution_count": null,
   "id": "13",
   "metadata": {},
   "outputs": [],
   "source": [
    "import kornia.filters as KF\n",
    "kernel_size = 51\n",
    "sigma = 20.0\n",
    "gaussian_blur = KF.GaussianBlur2d(\n",
    "    kernel_size=(kernel_size, kernel_size), sigma=(sigma, sigma), border_type=\"reflect\"\n",
    ").to(device)\n",
    "hint_mask = grid_diff > 0.5\n",
    "hint_mask = rearrange(hint_mask, \"h w -> 1 1 h w\").float()\n",
    "hint_mask = gaussian_blur(hint_mask)\n",
    "hint_mask = hint_mask > 0.5\n",
    "display(visualize_grayscale(hint_mask))"
   ]
  },
  {
   "cell_type": "code",
   "execution_count": null,
   "id": "14",
   "metadata": {},
   "outputs": [],
   "source": [
    "from flux_control.datasets.collage.palette import palette_downsample\n",
    "\n",
    "hint_fg = palette_downsample(tgt, hint_mask * foreground, colors=4)\n",
    "hint_bg = palette_downsample(tgt, hint_mask * (1 - foreground), colors=4)\n",
    "hint = hint_fg + hint_bg\n",
    "display(visualize_image(hint))\n",
    "display(visualize_image(affine * mask_affine_tgt + hint * (1 - mask_affine_tgt)))"
   ]
  },
  {
   "cell_type": "code",
   "execution_count": null,
   "id": "15",
   "metadata": {},
   "outputs": [],
   "source": [
    "describe(hint_mask)"
   ]
  },
  {
   "cell_type": "code",
   "execution_count": null,
   "id": "16",
   "metadata": {},
   "outputs": [],
   "source": [
    "save_data = {\n",
    "    \"video_path\": video_path,\n",
    "    \"src\": src,\n",
    "    \"tgt\": tgt,\n",
    "    \"flow\": flow,\n",
    "    \"affine\": affine,\n",
    "    \"mask_affine_tgt\": mask_affine_tgt,\n",
    "    \"foreground\": foreground,\n",
    "    \"confidence\": confidence,\n",
    "}\n",
    "\n",
    "describe(save_data)"
   ]
  },
  {
   "cell_type": "markdown",
   "id": "17",
   "metadata": {},
   "source": [
    "Model inputs:\n",
    "\n",
    "1. Noisy Latent\n",
    "2. Text Prompt Embedding\n",
    "3. Coarse Edit Latent (F.1 Fill, D-Concat)\n",
    "4. Coarse Edit Alpha Mask (F.1 Fill, Pixelshuffle then Concat)\n",
    "5. Local Confidence Map (Train a new modulation module)\n",
    "6. Color Hint Latent (F.1 Fill, D-Concat)"
   ]
  }
 ],
 "metadata": {
  "kernelspec": {
   "display_name": "base",
   "language": "python",
   "name": "python3"
  },
  "language_info": {
   "codemirror_mode": {
    "name": "ipython",
    "version": 3
   },
   "file_extension": ".py",
   "mimetype": "text/x-python",
   "name": "python",
   "nbconvert_exporter": "python",
   "pygments_lexer": "ipython3",
   "version": "3.11.11"
  }
 },
 "nbformat": 4,
 "nbformat_minor": 5
}
